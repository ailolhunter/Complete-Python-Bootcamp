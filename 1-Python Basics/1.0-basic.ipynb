{
  "cells": [
    {
      "cell_type": "markdown",
      "metadata": {
        "id": "view-in-github",
        "colab_type": "text"
      },
      "source": [
        "<a href=\"https://colab.research.google.com/github/ailolhunter/Complete-Python-Bootcamp/blob/main/1-Python%20Basics/1.0-basic.ipynb\" target=\"_parent\"><img src=\"https://colab.research.google.com/assets/colab-badge.svg\" alt=\"Open In Colab\"/></a>"
      ]
    },
    {
      "cell_type": "markdown",
      "metadata": {
        "id": "APfGYWQnSlvI"
      },
      "source": [
        "### Syntax and Semantics in Python\n",
        "Video Outline:\n",
        "- Single line Comments and multiline comments\n",
        "- Definition of Syntax and Semantics\n",
        "- Basic Syntax Rules in Python\n",
        "- Understanding Semantics in Python\n",
        "- Common Syntax Errors and How to Avoid Them\n",
        "- Practical Code Examples"
      ]
    },
    {
      "cell_type": "markdown",
      "metadata": {
        "id": "TtszCz4mSlvK"
      },
      "source": [
        "Syntax refers to the set of rules that defines the combinations of symbols that are considered to be correctly structured programs in a language. In simpler terms, syntax is about the correct arrangement of words and symbols in a code.\n",
        "\n",
        "Semantics refers to the meaning or the interpretation of the symbols, characters, and commands in a language. It is about what the code is supposed to do when it runs."
      ]
    },
    {
      "cell_type": "code",
      "execution_count": null,
      "metadata": {
        "id": "HsT9bL8zSlvK",
        "outputId": "d794e291-ec34-42ae-f031-91aa4a8fb896"
      },
      "outputs": [
        {
          "name": "stdout",
          "output_type": "stream",
          "text": [
            "Krish\n",
            "Naik\n"
          ]
        }
      ],
      "source": [
        "## Basic Syntax Rules In Python\n",
        "## Case sensitivity- Python is case sensitive\n",
        "\n",
        "name=\"lol\"\n",
        "Name=\"Nhunter\"\n",
        "\n",
        "print(name)\n",
        "print(Name)\n"
      ]
    },
    {
      "cell_type": "markdown",
      "metadata": {
        "id": "KKmP8rTKSlvM"
      },
      "source": [
        "### Indentation\n",
        "Indentation in Python is used to define the structure and hierarchy of the code. Unlike many other programming languages that use braces {} to delimit blocks of code, Python uses indentation to determine the grouping of statements. This means that all the statements within a block must be indented at the same level."
      ]
    },
    {
      "cell_type": "code",
      "execution_count": null,
      "metadata": {
        "id": "3QVfKvDxSlvM",
        "outputId": "24ed2633-ec57-40ea-e31f-d8a637f0b99d"
      },
      "outputs": [
        {
          "name": "stdout",
          "output_type": "stream",
          "text": [
            "32\n",
            "32\n"
          ]
        }
      ],
      "source": [
        "## Indentation\n",
        "## Python uses indentation to define blocks of code. Consistent use of spaces (commonly 4) or a tab is required.\n",
        "\n",
        "age=32\n",
        "if age>30:\n",
        "\n",
        "    print(age)\n",
        "\n",
        "print(age)\n"
      ]
    },
    {
      "cell_type": "code",
      "execution_count": null,
      "metadata": {
        "id": "3XEljgDRSlvN",
        "outputId": "feacc559-cc00-49ab-b78c-f1666fdb348d"
      },
      "outputs": [
        {
          "name": "stdout",
          "output_type": "stream",
          "text": [
            "Hello World\n"
          ]
        }
      ],
      "source": [
        "## This is a single line comment\n",
        "print(\"Hello World\")"
      ]
    },
    {
      "cell_type": "code",
      "execution_count": null,
      "metadata": {
        "id": "6wE-WLNRSlvN",
        "outputId": "7ebe2e03-d644-424a-e3b6-5cb7ee9d9dcf"
      },
      "outputs": [
        {
          "name": "stdout",
          "output_type": "stream",
          "text": [
            "43\n"
          ]
        }
      ],
      "source": [
        "## Line Continuation\n",
        "##Use a backslash (\\) to continue a statement to the next line\n",
        "\n",
        "total=1+2+3+4+5+6+7+\\\n",
        "4+5+6\n",
        "\n",
        "print(total)\n"
      ]
    },
    {
      "cell_type": "code",
      "execution_count": null,
      "metadata": {
        "id": "osh7c0vnSlvO",
        "outputId": "d9ad9bf7-b23b-497d-ece0-260e43de6169"
      },
      "outputs": [
        {
          "name": "stdout",
          "output_type": "stream",
          "text": [
            "15\n"
          ]
        }
      ],
      "source": [
        "## Multiple Statements on a single line\n",
        "x=5;y=10;z=x+y\n",
        "print(z)"
      ]
    },
    {
      "cell_type": "code",
      "execution_count": null,
      "metadata": {
        "id": "pVTpoR1SSlvO"
      },
      "outputs": [],
      "source": [
        "##Understand  Semnatics In Python\n",
        "# variable assignment\n",
        "age=32 ##age is an integer\n",
        "name=\"Krish\" ##name is a string"
      ]
    },
    {
      "cell_type": "code",
      "execution_count": null,
      "metadata": {
        "id": "TTMQIouVSlvO",
        "outputId": "120d5059-6864-4e58-b5fb-a4b5bfca31aa"
      },
      "outputs": [
        {
          "data": {
            "text/plain": [
              "int"
            ]
          },
          "execution_count": 10,
          "metadata": {},
          "output_type": "execute_result"
        }
      ],
      "source": [
        "\n",
        "\n",
        "type(age)"
      ]
    },
    {
      "cell_type": "code",
      "execution_count": null,
      "metadata": {
        "id": "gmjDVpPzSlvP",
        "outputId": "9ad05e8d-7021-48c7-ba35-e1a4e0fb4a28"
      },
      "outputs": [
        {
          "data": {
            "text/plain": [
              "str"
            ]
          },
          "execution_count": 9,
          "metadata": {},
          "output_type": "execute_result"
        }
      ],
      "source": [
        "type(name)"
      ]
    },
    {
      "cell_type": "code",
      "execution_count": null,
      "metadata": {
        "id": "tSycYX9cSlvP",
        "outputId": "8226769a-2128-4228-9f82-372cd7653ecd"
      },
      "outputs": [
        {
          "name": "stdout",
          "output_type": "stream",
          "text": [
            "<class 'int'>\n",
            "<class 'str'>\n"
          ]
        }
      ],
      "source": [
        "## Type Inference\n",
        "variable=10\n",
        "print(type(variable))\n",
        "variable=\"Krish\"\n",
        "print(type(variable))"
      ]
    },
    {
      "cell_type": "code",
      "execution_count": null,
      "metadata": {
        "id": "4d0C0rChSlvP",
        "outputId": "1a4b6f0b-a114-43ee-e2ed-50444d04355e"
      },
      "outputs": [
        {
          "name": "stdout",
          "output_type": "stream",
          "text": [
            "32\n"
          ]
        }
      ],
      "source": [
        "age=32\n",
        "if age>30:\n",
        "    print(age)"
      ]
    },
    {
      "cell_type": "code",
      "execution_count": null,
      "metadata": {
        "id": "A5om0eoeSlvP",
        "outputId": "54a71089-eff9-46d3-9419-7f914d209781"
      },
      "outputs": [
        {
          "ename": "NameError",
          "evalue": "name 'b' is not defined",
          "output_type": "error",
          "traceback": [
            "\u001b[1;31m---------------------------------------------------------------------------\u001b[0m",
            "\u001b[1;31mNameError\u001b[0m                                 Traceback (most recent call last)",
            "Cell \u001b[1;32mIn[15], line 1\u001b[0m\n\u001b[1;32m----> 1\u001b[0m a\u001b[38;5;241m=\u001b[39m\u001b[43mb\u001b[49m\n",
            "\u001b[1;31mNameError\u001b[0m: name 'b' is not defined"
          ]
        }
      ],
      "source": [
        "## Name Error\n",
        "a=b"
      ]
    },
    {
      "cell_type": "code",
      "execution_count": null,
      "metadata": {
        "id": "PA3Cd5skSlvQ",
        "outputId": "4a330d1f-3dda-439a-cb8f-918763aa55ff"
      },
      "outputs": [
        {
          "name": "stdout",
          "output_type": "stream",
          "text": [
            "Correct Indentation\n",
            "This will print\n",
            "Outside the if block\n"
          ]
        }
      ],
      "source": [
        "## Code exmaples of indentation\n",
        "if True:\n",
        "    print(\"Correct Indentation\")\n",
        "    if False:\n",
        "        print(\"This ont print\")\n",
        "    print(\"This will print\")\n",
        "print(\"Outside the if block\")"
      ]
    },
    {
      "cell_type": "markdown",
      "metadata": {
        "id": "HXBztoATSlvQ"
      },
      "source": [
        "### Conclusion:\n",
        "Understanding the syntax and semantics of Python is crucial for writing correct and meaningful programs. Syntax ensures the code is properly structured, while semantics ensures the code behaves as expected. Mastering these concepts will help in writing efficient and error-free Python code."
      ]
    },
    {
      "cell_type": "markdown",
      "metadata": {
        "id": "lHCGNm5BSlvQ"
      },
      "source": []
    }
  ],
  "metadata": {
    "kernelspec": {
      "display_name": "Python 3",
      "language": "python",
      "name": "python3"
    },
    "language_info": {
      "codemirror_mode": {
        "name": "ipython",
        "version": 3
      },
      "file_extension": ".py",
      "mimetype": "text/x-python",
      "name": "python",
      "nbconvert_exporter": "python",
      "pygments_lexer": "ipython3",
      "version": "3.12.0"
    },
    "colab": {
      "provenance": [],
      "include_colab_link": true
    }
  },
  "nbformat": 4,
  "nbformat_minor": 0
}